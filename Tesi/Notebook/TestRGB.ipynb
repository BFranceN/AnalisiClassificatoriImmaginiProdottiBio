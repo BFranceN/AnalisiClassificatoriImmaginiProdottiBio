{
  "nbformat": 4,
  "nbformat_minor": 0,
  "metadata": {
    "colab": {
      "provenance": [],
      "collapsed_sections": []
    },
    "kernelspec": {
      "name": "python3",
      "display_name": "Python 3"
    },
    "language_info": {
      "name": "python"
    },
    "accelerator": "GPU"
  },
  "cells": [
    {
      "cell_type": "code",
      "execution_count": null,
      "metadata": {
        "colab": {
          "base_uri": "https://localhost:8080/",
          "height": 36
        },
        "id": "1T3NJyv1BJ32",
        "outputId": "64be049a-6463-41d2-ed31-a57d47eed665"
      },
      "outputs": [
        {
          "output_type": "execute_result",
          "data": {
            "text/plain": [
              "'/device:GPU:0'"
            ],
            "application/vnd.google.colaboratory.intrinsic+json": {
              "type": "string"
            }
          },
          "metadata": {},
          "execution_count": 2
        }
      ],
      "source": [
        "#Import Libraries\n",
        "\n",
        "import numpy as np #Numerical Computing.\n",
        "import os #I/O.\n",
        "import tensorflow as tf #Machine Learning.\n",
        "from tensorflow.keras.preprocessing import image_dataset_from_directory #Dataset Generator.\n",
        "from sklearn.model_selection import train_test_split\n",
        "from sklearn.neighbors import KNeighborsClassifier\n",
        "from sklearn.ensemble import RandomForestClassifier\n",
        "from sklearn.model_selection import GridSearchCV\n",
        "from skimage.transform import resize\n",
        "from skimage.io import imread\n",
        "from sklearn.metrics import classification_report,accuracy_score,confusion_matrix\n",
        "import matplotlib.pyplot as plt\n",
        "from sklearn import svm\n",
        "import pandas as pd\n",
        "import pickle\n",
        "from sklearn import metrics\n",
        "import cv2 \n",
        "import random\n",
        "\n",
        "from skimage.color import rgb2gray\n",
        "from skimage.filters import sobel\n",
        "from skimage.filters.rank import entropy\n",
        "from skimage.morphology import disk\n",
        "tf.test.gpu_device_name()"
      ]
    },
    {
      "cell_type": "code",
      "source": [
        "from google.colab import drive\n",
        "drive.mount('/content/drive')"
      ],
      "metadata": {
        "id": "syP8CUMVA0Xu",
        "colab": {
          "base_uri": "https://localhost:8080/"
        },
        "outputId": "529710f0-1c21-4549-9882-691db5e479a1"
      },
      "execution_count": null,
      "outputs": [
        {
          "output_type": "stream",
          "name": "stdout",
          "text": [
            "Mounted at /content/drive\n"
          ]
        }
      ]
    },
    {
      "cell_type": "code",
      "source": [
        "!unzip \"../content/drive/MyDrive/Bio/Data.zip\" -d \"/content\""
      ],
      "metadata": {
        "id": "o8ayYWukD9gQ"
      },
      "execution_count": null,
      "outputs": []
    },
    {
      "cell_type": "code",
      "source": [
        "# A questo punto uso la PCA per trainare il modello\n",
        "\n",
        "Categories = ['B','N']\n",
        "flat_data_arr = []\n",
        "target_arr = []\n",
        "\n",
        "\n",
        "bio_file = []\n",
        "no_bio_file = []\n",
        "\n",
        "\n",
        "#per rendere gli esperimenti riproducibili\n",
        "random.seed(77)\n",
        "\n",
        "choose = int(input(\"scegli il canale [r, g, b]\"))\n",
        "\n",
        "#Concateno tutte le immagini\n",
        "\n",
        "for indice in range(1,5):\n",
        "  pathb = '../content/TRAIN.'+str(indice)+'/B'\n",
        "  pathnb = '../content/TRAIN.'+str(indice)+'/N'\n",
        "\n",
        "  bio_file +=  [pathb+'/'+fn for fn in os.listdir('../content/TRAIN.'+str(indice)+'/B') if (\"ORI\" in fn) ]\n",
        "  no_bio_file +=  [pathnb+'/'+fn for fn in os.listdir('../content/TRAIN.'+str(indice)+'/N') if (\"ORI\" in fn)]\n",
        "\n",
        "\n",
        "#metto alla pari le due classi\n",
        "fn_bio = random.sample(bio_file,6000)\n",
        "fn_nobio = random.sample(no_bio_file,6000)\n",
        "\n",
        "conteggio = 0\n",
        "\n",
        "\n",
        "\n",
        "#immagini non divise in RGB\n",
        "for i in range (len(fn_bio)):\n",
        "  conteggio +=1\n",
        "  for j in range(2):\n",
        "    #BIO\n",
        "    if j==0:\n",
        "      #leggo l'immagine\n",
        "      immagine = imread(os.path.join(fn_bio[i]))\n",
        "\n",
        "      #ANALISI RGB\n",
        "      (r,g,b) = cv2.split(immagine)\n",
        "      if(choose == 0):\n",
        "        imgc = r\n",
        "\n",
        "        if conteggio==10:\n",
        "          print(\"rosso\")\n",
        "          print(r)\n",
        "          plt.imshow(r)\n",
        "          plt.show()\n",
        "        \n",
        "      elif(choose == 1):\n",
        "        imgc = g\n",
        "        if conteggio==10:\n",
        "          print(\"verde\")\n",
        "          print(g)\n",
        "        \n",
        "      elif(choose == 2):\n",
        "        imgc = b\n",
        "        if conteggio==10:\n",
        "          print(\"blu\")\n",
        "          print(b)\n",
        "      else:\n",
        "        imgc = immagine\n",
        "        if conteggio==10:\n",
        "          print(\"3 colori\")\n",
        "\n",
        "      img_resize = resize(imgc, (32,32))\n",
        "      flat_data_arr.append(img_resize.flatten())\n",
        "      target_arr.append(Categories.index(Categories[j]))\n",
        "\n",
        "      if conteggio==10:\n",
        "        plt.imshow(img_resize)\n",
        "        plt.show()\n",
        "\n",
        "    #NON BIO\n",
        "    if j==1:\n",
        "      #leggo l'immagine\n",
        "      immagine = imread(os.path.join(fn_nobio[i]))\n",
        "\n",
        "      #ANALISI RGB\n",
        "      (r,g,b) = cv2.split(immagine)\n",
        "\n",
        "      if(choose == 0):\n",
        "        imgc = r\n",
        "        if conteggio==10:\n",
        "          print(\"rosso\")\n",
        "        \n",
        "      elif(choose == 1):\n",
        "        imgc = g\n",
        "        if conteggio==10:\n",
        "          print(\"verde\")\n",
        "      elif(choose == 2):\n",
        "        imgc = b\n",
        "        if conteggio==10:\n",
        "          print(\"blu\")\n",
        "      else:\n",
        "        imgc = immagine\n",
        "        if conteggio==10:\n",
        "          print(\"3 colori\")\n",
        "\n",
        "      img_resize = resize(imgc, (32,32))\n",
        "      \n",
        "      flat_data_arr.append(img_resize.flatten())\n",
        "      target_arr.append(Categories.index(Categories[j]))\n",
        "\n",
        "      if conteggio==10:\n",
        "        plt.imshow(img_resize)\n",
        "        plt.show()\n",
        "                         \n",
        "#Abbiamo ora un dataset perfettamente bilanciato\n",
        "print(f\"bio -> {len(fn_bio)}\")\n",
        "print(f\"no_bio -> { len(fn_nobio)}\")\n",
        "\n",
        "\n",
        "\n",
        "flat_data = np.array(flat_data_arr)\n",
        "target = np.array(target_arr)\n",
        "\n",
        "df = pd.DataFrame(flat_data)\n",
        "df['Target'] = target\n",
        "\n",
        "\n"
      ],
      "metadata": {
        "colab": {
          "base_uri": "https://localhost:8080/",
          "height": 723
        },
        "id": "7GxeBtJ0A0ev",
        "outputId": "76181ba5-0b13-4475-9f00-6ef6bf601a74"
      },
      "execution_count": null,
      "outputs": [
        {
          "output_type": "stream",
          "name": "stdout",
          "text": [
            "scegli il canale [r, g, b]2\n",
            "blu\n",
            "[[ 37  52  65 ... 227 220 211]\n",
            " [ 55  54  57 ... 226 223 214]\n",
            " [ 92  74  65 ... 227 216 199]\n",
            " ...\n",
            " [209 209 209 ... 210 210 210]\n",
            " [209 209 209 ... 210 210 210]\n",
            " [209 209 209 ... 210 210 210]]\n"
          ]
        },
        {
          "output_type": "display_data",
          "data": {
            "text/plain": [
              "<Figure size 432x288 with 1 Axes>"
            ],
            "image/png": "[encoded data removed]"
          },
          "metadata": {
            "needs_background": "light"
          }
        },
        {
          "output_type": "stream",
          "name": "stdout",
          "text": [
            "blu\n"
          ]
        },
        {
          "output_type": "display_data",
          "data": {
            "text/plain": [
              "<Figure size 432x288 with 1 Axes>"
            ],
            "image/png": "[encoded data removed]"
          },
          "metadata": {
            "needs_background": "light"
          }
        },
        {
          "output_type": "stream",
          "name": "stdout",
          "text": [
            "bio -> 6000\n",
            "no_bio -> 6000\n"
          ]
        }
      ]
    },
    {
      "cell_type": "code",
      "source": [
        "x=df.iloc[:,:-1] # qui prendo l'immagine (tranne la label)\n",
        "y=df.iloc[:,-1] # qui prendo solo la label\n",
        "\n",
        "\n",
        "print(np.unique(y))\n",
        "\n",
        "x_train,x_test,y_train,y_test=train_test_split(x,y,test_size=0.20,random_state=77,stratify=y)\n",
        "\n"
      ],
      "metadata": {
        "colab": {
          "base_uri": "https://localhost:8080/"
        },
        "id": "y8sC6-dWBbyO",
        "outputId": "e6759b04-7e8f-4d1a-b165-36e4282e00ab"
      },
      "execution_count": null,
      "outputs": [
        {
          "output_type": "stream",
          "name": "stdout",
          "text": [
            "[0 1]\n"
          ]
        }
      ]
    },
    {
      "cell_type": "code",
      "source": [
        "scelta_modello = int(input(\"scegli il modello:\"))\n",
        "\n",
        "#SVM\n",
        "if(scelta_modello == 0):\n",
        "  param_grid={'C':[10,0.1],'kernel':['linear','poly','rbf'], 'gamma':[0.1,1]} \n",
        " # param_grid={'C':[1],'kernel':['poly'], 'gamma':[0.1]} \n",
        "\n",
        "\n",
        "  #param_grid={'kernel':['rbf','poly'], 'gamma':[1, 10,100]}\n",
        "  #param_grid = {'C': [0.1], 'kernel': ['linear']}\n",
        "  #param_grid = {'C': [0.01], 'gamma':[0.1], 'kernel': ['linear']}\n",
        "\n",
        "  svc=svm.SVC(probability=True)\n",
        "  print(\"inizio allenamento\")\n",
        "  model=GridSearchCV(svc,param_grid, verbose=1)  \n",
        "\n",
        "  # test if CPU and GPU are visible\n",
        "  c = tf.config.get_visible_devices()\n",
        "  print(c)\n",
        "  # [PhysicalDevice(name='/physical_device:CPU:0', device_type='CPU'),\n",
        "  #  PhysicalDevice(name='/physical_device:GPU:0', device_type='GPU')]  \n",
        "\n",
        "  model.fit(x_train,y_train)\n",
        "  print('Fine allenamento')\n",
        "  print(model.best_params_)\n",
        "\n",
        "#RANDOM FOREST\n",
        "elif(scelta_modello == 1):\n",
        " # param_grid = {'bootstrap':[True], 'n_estimators':[300,400,500], 'max_depth':[50,70]}\n",
        "  param_grid = {'bootstrap':[True], 'n_estimators':[100], 'criterion':['gini', 'entropy', 'log_loss'],'max_depth':[50,70], 'max_features':['sqrt','log2','auto']}\n",
        "  clf=RandomForestClassifier(n_estimators=100)\n",
        "  print(\"inizio allenamento\")\n",
        "  model=GridSearchCV(clf, param_grid)\n",
        "  model.fit(x_train,y_train)\n",
        "  print(\"fine allenamento\")\n",
        "  print (model.best_params_)\n",
        "\n",
        "\n",
        "#KNN\n",
        "elif(scelta_modello == 2):\n",
        "  knn = KNeighborsClassifier()\n",
        " # k_range = list(range(3,15,2))\n",
        " \n",
        "  #param_grid ={'metric': ['manhattan'], 'n_neighbors': [5], 'weights': ['distance']}\n",
        "  #param_grid ={'metric': ['euclidean'], 'n_neighbors': [5], 'weights': ['distance']}\n",
        "  param_grid ={'metric': ['manhattan'], 'n_neighbors': [7], 'weights': ['distance']}\n",
        "  #param_grid = dict(n_neighbors = k_range, weights = [\"distance\"], metric=[\"manhattan\"])\n",
        "  grid = GridSearchCV(knn, param_grid, cv=5, scoring='accuracy', return_train_score=True, verbose=2)\n",
        "  #fitting the model for grid search\n",
        "  grid_search = grid.fit(x_train, y_train)\n",
        "  print(grid_search.best_params_)\n",
        "  model = grid_search"
      ],
      "metadata": {
        "id": "1H4cG1S9ETSD"
      },
      "execution_count": null,
      "outputs": []
    },
    {
      "cell_type": "code",
      "source": [
        "y_pred = model.predict(x_test)\n",
        "print(f\"predizione modello -> {y_pred}\")\n",
        "print(f\"label reali -> {np.array(y_test)}\")"
      ],
      "metadata": {
        "colab": {
          "base_uri": "https://localhost:8080/"
        },
        "id": "keP9f7A0EXwd",
        "outputId": "e5c16d5a-05ec-40d9-c896-7e422df3d913"
      },
      "execution_count": null,
      "outputs": [
        {
          "output_type": "stream",
          "name": "stdout",
          "text": [
            "predizione modello -> [1 1 1 ... 0 1 0]\n",
            "label reali -> [1 1 0 ... 0 1 0]\n"
          ]
        }
      ]
    },
    {
      "cell_type": "code",
      "source": [
        "#vediamo l'accuratezza:\n",
        "print(f\"The model is {accuracy_score(y_pred,y_test)*100}% accurate\")\n",
        "#Confusion matrix\n",
        "confusion_matrix = metrics.confusion_matrix(y_test,y_pred)\n",
        "cm_display = metrics.ConfusionMatrixDisplay (confusion_matrix = confusion_matrix, display_labels = ['B','N'])\n",
        "cm_display.plot()\n",
        "plt.show()\n",
        "#Metrics\n",
        "#of the positives predicted, what percentage is truly positive?\n",
        "precision = metrics.precision_score(y_test, y_pred)\n",
        "print(f\"Precision: {precision*100}% \")\n",
        "#how good the model is at predicting positives?\n",
        "sensitivity_recall = metrics.recall_score(y_test, y_pred)\n",
        "print(f\"Sensitivity: {sensitivity_recall*100}% \")\n",
        "#how good the model is at predicting negatives?\n",
        "specificity = metrics.recall_score(y_test, y_pred, pos_label=0)\n",
        "print(f\"Specificity: {specificity*100}% \")\n",
        "f1_score = metrics.f1_score(y_test, y_pred)\n",
        "print(f\"F-Score: {f1_score * 100}\")\n",
        "print(model)"
      ],
      "metadata": {
        "colab": {
          "base_uri": "https://localhost:8080/",
          "height": 435
        },
        "id": "s5KICO71EZPN",
        "outputId": "39b0f235-1543-4913-93ab-af92acd1a823"
      },
      "execution_count": null,
      "outputs": [
        {
          "output_type": "stream",
          "name": "stdout",
          "text": [
            "The model is 85.04166666666667% accurate\n"
          ]
        },
        {
          "output_type": "display_data",
          "data": {
            "text/plain": [
              "<Figure size 432x288 with 2 Axes>"
            ],
            "image/png": "[encoded data removed]"
          },
          "metadata": {
            "needs_background": "light"
          }
        },
        {
          "output_type": "stream",
          "name": "stdout",
          "text": [
            "Precision: 87.37777777777778% \n",
            "Sensitivity: 81.91666666666667% \n",
            "Specificity: 88.16666666666667% \n",
            "F-Score: 84.55913978494624\n",
            "GridSearchCV(estimator=RandomForestClassifier(),\n",
            "             param_grid={'bootstrap': [True], 'max_depth': [30, 50, 70],\n",
            "                         'max_features': ['sqrt', 'log2', 'auto'],\n",
            "                         'n_estimators': [50]})\n"
          ]
        }
      ]
    }
  ]
}